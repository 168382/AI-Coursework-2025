{
  "nbformat": 4,
  "nbformat_minor": 0,
  "metadata": {
    "colab": {
      "provenance": [],
      "authorship_tag": "ABX9TyMtwMoSZXS9oko9ADznW76A",
      "include_colab_link": true
    },
    "kernelspec": {
      "name": "python3",
      "display_name": "Python 3"
    },
    "language_info": {
      "name": "python"
    }
  },
  "cells": [
    {
      "cell_type": "markdown",
      "metadata": {
        "id": "view-in-github",
        "colab_type": "text"
      },
      "source": [
        "<a href=\"https://colab.research.google.com/github/168382/AI-Coursework-2025/blob/main/Python_Refresher.ipynb\" target=\"_parent\"><img src=\"https://colab.research.google.com/assets/colab-badge.svg\" alt=\"Open In Colab\"/></a>"
      ]
    },
    {
      "cell_type": "code",
      "execution_count": 10,
      "metadata": {
        "id": "IjnROlbzGBE9",
        "colab": {
          "base_uri": "https://localhost:8080/"
        },
        "outputId": "155804d2-db81-41c2-e6b6-b52902113ae8"
      },
      "outputs": [
        {
          "output_type": "stream",
          "name": "stdout",
          "text": [
            "Enter the number of days: 20\n",
            "20.0 days is equal to 1728000.0 seconds.\n",
            "--------------------\n"
          ]
        }
      ],
      "source": [
        "\n",
        "def days_to_seconds():\n",
        "  \"\"\"\n",
        "  Calculates the number of seconds from a given number of days.\n",
        "  \"\"\"\n",
        "  while True:\n",
        "    try:\n",
        "      days = float(input(\"Enter the number of days: \"))\n",
        "      seconds = days * 24 * 60 * 60\n",
        "      print(f\"{days} days is equal to {seconds} seconds.\")\n",
        "      break\n",
        "    except ValueError:\n",
        "      print(\"Invalid input. Please enter a valid number for days.\")\n",
        "\n",
        "days_to_seconds()\n",
        "\n",
        "print(\"-\" * 20)\n",
        "\n",
        "\n",
        "\n",
        "\n",
        "\n",
        "\n"
      ]
    },
    {
      "cell_type": "markdown",
      "source": [],
      "metadata": {
        "id": "HT0HMmOTJmzB"
      }
    },
    {
      "cell_type": "code",
      "source": [
        "import math\n",
        "\n",
        "radius = float(input(\"Enter the radius of the sphere: \"))\n",
        "\n",
        "volume = (4 / 3) * math.pi * (radius ** 3)\n",
        "\n",
        "print(f\"The volume of the sphere is: {volume:.2f}\")\n",
        "\n",
        "\n",
        "\n",
        "\n"
      ],
      "metadata": {
        "id": "7vqIBH1MJogy",
        "colab": {
          "base_uri": "https://localhost:8080/"
        },
        "outputId": "8204b90f-973d-4d7d-acc7-34be12633c46"
      },
      "execution_count": 25,
      "outputs": [
        {
          "output_type": "stream",
          "name": "stdout",
          "text": [
            "Enter the radius of the sphere: 16\n",
            "The volume of the sphere is: 17157.28\n"
          ]
        }
      ]
    },
    {
      "cell_type": "code",
      "source": [
        "\n",
        "def calculate_area(side):\n",
        "    return side ** 2\n",
        "\n",
        "\n",
        "def calculate_perimeter(side):\n",
        "    return 4 * side\n",
        "\n",
        "\n",
        "side_length = float(input(\"Enter the side length of the square: \"))\n",
        "\n",
        "\n",
        "area = calculate_area(side_length)\n",
        "perimeter = calculate_perimeter(side_length)\n",
        "\n",
        "\n",
        "print(f\"The area of the square is: {area:.2f}\")\n",
        "print(f\"The perimeter of the square is: {perimeter:.2f}\")"
      ],
      "metadata": {
        "colab": {
          "base_uri": "https://localhost:8080/"
        },
        "id": "FPnSSb3i0E19",
        "outputId": "dc59f207-711a-4f2b-f1ca-04fe08c4afd7"
      },
      "execution_count": 28,
      "outputs": [
        {
          "output_type": "stream",
          "name": "stdout",
          "text": [
            "Enter the side length of the square: 19\n",
            "The area of the square is: 361.00\n",
            "The perimeter of the square is: 76.00\n"
          ]
        }
      ]
    },
    {
      "cell_type": "markdown",
      "source": [],
      "metadata": {
        "id": "Ku-OtKb_Jxbf"
      }
    },
    {
      "cell_type": "code",
      "source": [
        "\n",
        "def check_case(char):\n",
        "  \"\"\"\n",
        "  Determines if a single character is uppercase or lowercase.\n",
        "  \"\"\"\n",
        "  if not isinstance(char, str) or len(char) != 1:\n",
        "    return \"Invalid input. Please enter a single character.\"\n",
        "\n",
        "  if 'a' <= char <= 'z':\n",
        "    return f\"'{char}' is a lowercase character.\"\n",
        "  elif 'A' <= char <= 'Z':\n",
        "    return f\"'{char}' is an uppercase character.\"\n",
        "  else:\n",
        "    return f\"'{char}' is not a letter.\"\n",
        "\n",
        "def get_char_and_check():\n",
        "  \"\"\"\n",
        "  Prompts the user for a character and prints its case.\n",
        "  \"\"\"\n",
        "  user_char = input(\"Enter a single character: \")\n",
        "  print(check_case(user_char))\n",
        "\n",
        "get_char_and_check()\n",
        "\n"
      ],
      "metadata": {
        "id": "5I3E2eLeLDN5",
        "colab": {
          "base_uri": "https://localhost:8080/"
        },
        "outputId": "8ceb6531-1967-45f4-fc53-2c85f4c08238"
      },
      "execution_count": 18,
      "outputs": [
        {
          "output_type": "stream",
          "name": "stdout",
          "text": [
            "Enter a single character: Y\n",
            "'Y' is an uppercase character.\n"
          ]
        }
      ]
    },
    {
      "cell_type": "code",
      "source": [
        "x = 0\n",
        "y = 20\n",
        "\n",
        "while y >= 6:\n",
        "  y = y - 4\n",
        "  x = x + 2 / y\n",
        "\n",
        "print(f\"The value of x is: {x}\")\n",
        "\n"
      ],
      "metadata": {
        "id": "fyySRMiJfrTG",
        "colab": {
          "base_uri": "https://localhost:8080/"
        },
        "outputId": "f6f79f84-4e43-4311-bc9e-7e56b828f91d"
      },
      "execution_count": 15,
      "outputs": [
        {
          "output_type": "stream",
          "name": "stdout",
          "text": [
            "The value of x is: 1.0416666666666665\n"
          ]
        }
      ]
    },
    {
      "cell_type": "code",
      "source": [
        "\n",
        "def calculate_average():\n",
        "  \"\"\"\n",
        "  Prompts the user to input 5 numbers, calculates their average, and prints the result.\n",
        "  \"\"\"\n",
        "  numbers = []\n",
        "  for i in range(5):\n",
        "    while True:\n",
        "      try:\n",
        "        user_input = float(input(f\"Enter number {i + 1} of 5: \"))\n",
        "        numbers.append(user_input)\n",
        "        break\n",
        "      except ValueError:\n",
        "        print(\"Invalid input. Please enter a valid number.\")\n",
        "\n",
        "\n",
        "  total_sum = sum(numbers)\n",
        "  average = total_sum / len(numbers)\n",
        "\n",
        "  print(f\"The numbers entered are: {numbers}\")\n",
        "  print(f\"The average of the numbers is: {average}\")\n",
        "\n",
        "\n",
        "calculate_average()\n"
      ],
      "metadata": {
        "colab": {
          "base_uri": "https://localhost:8080/"
        },
        "id": "6RhrbblMsCEO",
        "outputId": "543240e6-aa4e-4f27-d6e5-ffbce38ef29d"
      },
      "execution_count": 9,
      "outputs": [
        {
          "output_type": "stream",
          "name": "stdout",
          "text": [
            "Enter number 1 of 5: 6\n",
            "Enter number 2 of 5: 5\n",
            "Enter number 3 of 5: 7\n",
            "Enter number 4 of 5: 3\n",
            "Enter number 5 of 5: 2\n",
            "The numbers entered are: [6.0, 5.0, 7.0, 3.0, 2.0]\n",
            "The average of the numbers is: 4.6\n"
          ]
        }
      ]
    }
  ]
}