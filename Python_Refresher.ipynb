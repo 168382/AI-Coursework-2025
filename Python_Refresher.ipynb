{
  "nbformat": 4,
  "nbformat_minor": 0,
  "metadata": {
    "colab": {
      "provenance": [],
      "authorship_tag": "ABX9TyMgU7pAsAqp/9/CaiGHbsbm",
      "include_colab_link": true
    },
    "kernelspec": {
      "name": "python3",
      "display_name": "Python 3"
    },
    "language_info": {
      "name": "python"
    }
  },
  "cells": [
    {
      "cell_type": "markdown",
      "metadata": {
        "id": "view-in-github",
        "colab_type": "text"
      },
      "source": [
        "<a href=\"https://colab.research.google.com/github/168382/AI-Coursework-2025/blob/main/Python_Refresher.ipynb\" target=\"_parent\"><img src=\"https://colab.research.google.com/assets/colab-badge.svg\" alt=\"Open In Colab\"/></a>"
      ]
    },
    {
      "cell_type": "code",
      "execution_count": null,
      "metadata": {
        "id": "IjnROlbzGBE9"
      },
      "outputs": [],
      "source": [
        "# 1. Program to calculate seconds in a given number of days\n",
        "def calculate_seconds():\n",
        "\n",
        "    try:\n",
        "        days = int(input(\"Enter the number of days: \"))\n",
        "        if days < 0:\n",
        "            print(\"Please enter a non-negative number of days.\")\n",
        "            return\n",
        "\n",
        "        seconds_in_day = 24 * 60 * 60\n",
        "        total_seconds = days * seconds_in_day\n",
        "        print(f\"There are {total_seconds} seconds in {days} days.\")\n",
        "    except ValueError:\n",
        "        print(\"Invalid input. Please enter a whole number for days.\")\n",
        "\n",
        "\n",
        "\n",
        "\n",
        "\n",
        "\n"
      ]
    },
    {
      "cell_type": "markdown",
      "source": [],
      "metadata": {
        "id": "HT0HMmOTJmzB"
      }
    },
    {
      "cell_type": "code",
      "source": [
        " # 2. Program to calculate the volume of a sphere\n",
        "def calculate_sphere_volume():\n",
        "\n",
        "    try:\n",
        "        radius = float(input(\"Enter the radius of the sphere: \"))\n",
        "        if radius < 0:\n",
        "            print(\"Radius cannot be negative.\")\n",
        "            return\n",
        "\n",
        "        # Using the exponential operator (**) to compute r^3\n",
        "        volume = (4/3) * math.pi * (radius ** 3)\n",
        "        print(f\"The volume of the sphere with radius {radius} is: {volume:.2f}\")\n",
        "    except ValueError:\n",
        "        print(\"Invalid input. Please enter a number for the radius.\")\n",
        "\n",
        "\n",
        "\n",
        "\n"
      ],
      "metadata": {
        "id": "7vqIBH1MJogy"
      },
      "execution_count": null,
      "outputs": []
    },
    {
      "cell_type": "markdown",
      "source": [],
      "metadata": {
        "id": "Ku-OtKb_Jxbf"
      }
    },
    {
      "cell_type": "code",
      "source": [
        "# 3. Program to compute the area and perimeter of a square using functions\n",
        "def calculate_square_properties(side_length):\n",
        "\n",
        "    area = side_length ** 2\n",
        "    perimeter = 4 * side_length\n",
        "    return area, perimeter\n",
        "\n",
        "def get_square_input_and_display():\n",
        "\n",
        "    try:\n",
        "        side = float(input(\"Enter the side length of the square: \"))\n",
        "        if side < 0:\n",
        "            print(\"Side length cannot be negative.\")\n",
        "            return\n",
        "\n",
        "        area, perimeter = calculate_square_properties(side)\n",
        "        print(f\"For a square with side length {side}:\")\n",
        "        print(f\"Area: {area:.2f}\")\n",
        "        print(f\"Perimeter: {perimeter:.2f}\")\n",
        "    except ValueError:\n",
        "        print(\"Invalid input. Please enter a number for the side length.\")\n",
        "\n",
        "\n",
        "\n"
      ],
      "metadata": {
        "id": "MclgNfOyJzy2"
      },
      "execution_count": null,
      "outputs": []
    },
    {
      "cell_type": "code",
      "source": [
        "\n",
        "# 4. Program to determine if a character is uppercase or lowercase using functions\n",
        "def check_character_case(char):\n",
        "\n",
        "    if len(char) != 1:\n",
        "        return \"Please enter a single character.\"\n",
        "    elif 'a' <= char <= 'z':\n",
        "        return f\"The character '{char}' is a lowercase letter.\"\n",
        "    elif 'A' <= char <= 'Z':\n",
        "        return f\"The character '{char}' is an uppercase letter.\"\n",
        "    else:\n",
        "        return f\"The character '{char}' is not an English alphabet letter.\"\n",
        "\n",
        "def get_character_input_and_display():\n",
        "\n",
        " if __name__ == \"__main__\":\n",
        "    print(\"--- Program 1: Seconds in Days ---\")\n",
        "    calculate_seconds()\n",
        "    print(\"\\n\" + \"=\"*30 + \"\\n\")\n",
        "\n",
        "    print(\"--- Program 2: Volume of a Sphere ---\")\n",
        "    calculate_sphere_volume()\n",
        "    print(\"\\n\" + \"=\"*30 + \"\\n\")\n",
        "\n",
        "    print(\"--- Program 3: Square Area and Perimeter ---\")\n",
        "    get_square_input_and_display()\n",
        "    print(\"\\n\" + \"=\"*30 + \"\\n\")\n",
        "\n",
        "    print(\"--- Program 4: Character Case Checker ---\")\n",
        "    get_character_input_and_display()\n",
        "\n"
      ],
      "metadata": {
        "id": "5I3E2eLeLDN5"
      },
      "execution_count": null,
      "outputs": []
    },
    {
      "cell_type": "code",
      "source": [],
      "metadata": {
        "id": "fyySRMiJfrTG"
      },
      "execution_count": null,
      "outputs": []
    }
  ]
}